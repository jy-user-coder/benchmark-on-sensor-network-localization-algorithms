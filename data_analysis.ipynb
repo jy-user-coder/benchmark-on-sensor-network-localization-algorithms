{
 "cells": [
  {
   "cell_type": "code",
   "execution_count": 1,
   "metadata": {},
   "outputs": [
    {
     "name": "stdout",
     "output_type": "stream",
     "text": [
      "SDR & 8\\% & 33\\% & 88\\% & 99\\% & 100\\% & 100 \\\\\\hline\n",
      "SGD & 4\\% & 23\\% & 45\\% & 71\\% & 89\\% & 93 \\\\\\hline\n",
      "Compound & 24\\% & 74\\% & 97\\% & 100\\% & 100\\% & 100 \\\\\\hline\n",
      "GD & 0\\% & 1\\% & 6\\% & 13\\% & 29\\% & 46 \\\\\\hline\n",
      "SGD($\\mathbb{R}^{n+d}$) & 0\\% & 0\\% & 0\\% & 0\\% & 5\\% & 5 \\\\\\hline\n",
      "SGD($\\mathbb{R}^{n+d}$)+SGD & 7\\% & 31\\% & 60\\% & 87\\% & 97\\% & 100 \\\\\\hline\n",
      "GALP 21 & 100\\% & 100\\% & 100\\% & 100\\% & 100\\% & 100 \\\\\\hline\n",
      "GALP-R 21 & 2\\% & 15\\% & 30\\% & 47\\% & 65\\% & 72 \\\\\\hline\n",
      "GALP 22 & 75\\% & 94\\% & 100\\% & 100\\% & 100\\% & 100 \\\\\\hline\n",
      "GALP-R 22 & 6\\% & 17\\% & 36\\% & 59\\% & 70\\% & 85 \\\\\\hline\n",
      "SDR+GALP 21 & 100\\% & 100\\% & 100\\% & 100\\% & 100\\% & 100 \\\\\\hline\n",
      "SDR+GALP-R 21 & 49\\% & 98\\% & 100\\% & 100\\% & 100\\% & 100 \\\\\\hline\n",
      "SDR+GALP 22 & 100\\% & 100\\% & 100\\% & 100\\% & 100\\% & 100 \\\\\\hline\n",
      "SDR+GALP-R 22 & 100\\% & 100\\% & 100\\% & 100\\% & 100\\% & 100 \\\\\\hline\n"
     ]
    }
   ],
   "source": [
    "import numpy as np\n",
    "from snlpy import utils\n",
    "\n",
    "final_res = np.load('benchmark_data/50A500S/final_res.npy')\n",
    "out = np.sum((final_res)[0, :, :, :] < 0.001, axis=(2))\n",
    "utils.mytable(out)"
   ]
  }
 ],
 "metadata": {
  "kernelspec": {
   "display_name": "Python 3",
   "language": "python",
   "name": "python3"
  },
  "language_info": {
   "codemirror_mode": {
    "name": "ipython",
    "version": 3
   },
   "file_extension": ".py",
   "mimetype": "text/x-python",
   "name": "python",
   "nbconvert_exporter": "python",
   "pygments_lexer": "ipython3",
   "version": "3.11.3"
  },
  "orig_nbformat": 4
 },
 "nbformat": 4,
 "nbformat_minor": 2
}
