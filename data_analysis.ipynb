{
 "cells": [
  {
   "cell_type": "code",
   "execution_count": 6,
   "metadata": {},
   "outputs": [
    {
     "name": "stdout",
     "output_type": "stream",
     "text": [
      "SDR & 0\\% & 22\\% & 63\\% & 93\\% \\\\\\hline\n",
      "SGD & 0\\% & 11\\% & 27\\% & 51\\% \\\\\\hline\n",
      "Compound & 3\\% & 43\\% & 86\\% & 97\\% \\\\\\hline\n",
      "GD & 0\\% & 0\\% & 1\\% & 12\\% \\\\\\hline\n",
      "SGD($\\mathbb{R}^{n+d}$) & 0\\% & 0\\% & 1\\% & 1\\% \\\\\\hline\n",
      "SGD($\\mathbb{R}^{n+d}$)+SGD & 0\\% & 9\\% & 42\\% & 73\\% \\\\\\hline\n",
      "GALP 21 & 100\\% & 100\\% & 100\\% & 100\\% \\\\\\hline\n",
      "GALP-R 21 & 0\\% & 3\\% & 12\\% & 17\\% \\\\\\hline\n",
      "GALP 22 & 100\\% & 100\\% & 100\\% & 100\\% \\\\\\hline\n",
      "GALP-R 22 & 100\\% & 100\\% & 100\\% & 100\\% \\\\\\hline\n",
      "SDR+GALP 21 & 100\\% & 100\\% & 100\\% & 100\\% \\\\\\hline\n",
      "SDR+GALP-R 21 & 16\\% & 69\\% & 94\\% & 99\\% \\\\\\hline\n",
      "SDR+GALP 22 & 100\\% & 100\\% & 100\\% & 100\\% \\\\\\hline\n",
      "SDR+GALP-R 22 & 100\\% & 100\\% & 100\\% & 100\\% \\\\\\hline\n"
     ]
    }
   ],
   "source": [
    "import numpy as np\n",
    "from snlpy import utils\n",
    "\n",
    "final_res = np.load('benchmark_data/10A50S/final_res.npy')\n",
    "out = np.sum((final_res)[0, :, :, :] < 0.001, axis=(2))\n",
    "utils.mytable(out)"
   ]
  }
 ],
 "metadata": {
  "kernelspec": {
   "display_name": "Python 3",
   "language": "python",
   "name": "python3"
  },
  "language_info": {
   "codemirror_mode": {
    "name": "ipython",
    "version": 3
   },
   "file_extension": ".py",
   "mimetype": "text/x-python",
   "name": "python",
   "nbconvert_exporter": "python",
   "pygments_lexer": "ipython3",
   "version": "3.11.3"
  },
  "orig_nbformat": 4
 },
 "nbformat": 4,
 "nbformat_minor": 2
}
